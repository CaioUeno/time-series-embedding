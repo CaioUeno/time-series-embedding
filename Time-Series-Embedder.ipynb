{
  "nbformat": 4,
  "nbformat_minor": 0,
  "metadata": {
    "colab": {
      "name": "Time-Series-Embedder.ipynb",
      "provenance": [],
      "collapsed_sections": []
    },
    "kernelspec": {
      "display_name": "Python 3",
      "name": "python3"
    },
    "language_info": {
      "name": "python"
    },
    "accelerator": "GPU"
  },
  "cells": [
    {
      "cell_type": "code",
      "metadata": {
        "id": "4Upe2nHAfdkN"
      },
      "source": [
        "# !pip3 install dtw-python pandas==1.2.4 sktime==0.5.3"
      ],
      "execution_count": null,
      "outputs": []
    },
    {
      "cell_type": "code",
      "metadata": {
        "colab": {
          "base_uri": "https://localhost:8080/"
        },
        "id": "4OLcbRxeu4yB",
        "outputId": "841347ca-2ae2-47b9-c487-f95e3e954287"
      },
      "source": [
        "import numpy as np\n",
        "import pandas as pd\n",
        "from sklearn.neighbors import KNeighborsClassifier\n",
        "from sklearn.metrics import accuracy_score, silhouette_score\n",
        "from sklearn.model_selection import train_test_split\n",
        "\n",
        "# own libs\n",
        "from utils import load_from_sktime_univariate, plot_embedding\n",
        "from embedder import TimeSeriesEmbedder"
      ],
      "execution_count": null,
      "outputs": [
        {
          "output_type": "stream",
          "text": [
            "Importing the dtw module. When using in academic works please cite:\n",
            "  T. Giorgino. Computing and Visualizing Dynamic Time Warping Alignments in R: The dtw Package.\n",
            "  J. Stat. Soft., doi:10.18637/jss.v031.i07.\n",
            "\n"
          ],
          "name": "stdout"
        }
      ]
    },
    {
      "cell_type": "code",
      "metadata": {
        "id": "Z4P_hNsfvWGA"
      },
      "source": [
        "dataset_name = \"HandOutlines\"\n",
        "\n",
        "# load dataset\n",
        "X_train, y_train = load_from_sktime_univariate(\n",
        "    f\"data/{dataset_name}/{dataset_name}_TRAIN.ts\"\n",
        ")\n",
        "X_test, y_test = load_from_sktime_univariate(\n",
        "    f\"data/{dataset_name}/{dataset_name}_TEST.ts\"\n",
        ")\n",
        "\n",
        "# # balance instances on training - only small training set datasets (look Full-Report.csv)\n",
        "# X_train, X_test, y_train, y_test = train_test_split(np.concatenate([X_train, X_test]),\n",
        "#                                                     np.concatenate([y_train, y_test]),\n",
        "#                                                     test_size=.66, random_state=17)\n",
        "\n",
        "# # remove instances on training - only big datasets (look Full-Report.csv)\n",
        "# X_train, _, y_train, _ = train_test_split(X_train, y_train,\n",
        "#                                           train_size=.1, random_state=17)"
      ],
      "execution_count": null,
      "outputs": []
    },
    {
      "source": [
        "## Training Configurations"
      ],
      "cell_type": "markdown",
      "metadata": {}
    },
    {
      "cell_type": "code",
      "metadata": {
        "id": "B0lY8kssfxnL"
      },
      "source": [
        "TS_LENGTH = X_train.shape[1]\n",
        "\n",
        "# embedding is half the size of the original series\n",
        "EMBEDDING_LENGTH = TS_LENGTH // 2\n",
        "\n",
        "# neural network params\n",
        "BATCH_SIZE = 16\n",
        "EPOCHS = 50"
      ],
      "execution_count": null,
      "outputs": []
    },
    {
      "source": [
        "## Training"
      ],
      "cell_type": "markdown",
      "metadata": {}
    },
    {
      "cell_type": "code",
      "metadata": {
        "colab": {
          "base_uri": "https://localhost:8080/"
        },
        "id": "ZAwvM4wRwEN6",
        "outputId": "d258eca9-7ceb-46e4-c105-01c1f7d16bdf"
      },
      "source": [
        "# store metrics\n",
        "one_accuracies, three_accuracies = [], []\n",
        "train_sils, test_sils = [], []\n",
        "\n",
        "# since neural networks can be unstable (random initialization of the weights), we evalute it three times\n",
        "for _ in range(3):\n",
        "\n",
        "    emb = TimeSeriesEmbedder(EMBEDDING_LENGTH, TS_LENGTH)\n",
        "    emb.fit(X_train, y_train,\n",
        "            batch_size=BATCH_SIZE, epochs=EPOCHS)\n",
        "    \n",
        "    # silhouettes - train and test\n",
        "    train_sils.append(silhouette_score(emb.encode(X_train), y_train))\n",
        "    test_sils.append(silhouette_score(emb.encode(X_test), y_test))\n",
        "\n",
        "    #only one neighbor\n",
        "    one_y_pred = KNeighborsClassifier(n_neighbors=1,\n",
        "                                      metric=\"cosine\",\n",
        "                                      n_jobs=-1).fit(emb.encode(X_train), y_train).predict(emb.encode(X_test))\n",
        "\n",
        "    one_accuracies.append(accuracy_score(y_test, one_y_pred))\n",
        "\n",
        "    # three neighbors\n",
        "    three_y_pred = KNeighborsClassifier(n_neighbors=3,\n",
        "                                        metric=\"cosine\",\n",
        "                                        n_jobs=-1).fit(emb.encode(X_train), y_train).predict(emb.encode(X_test))\n",
        "\n",
        "    three_accuracies.append(accuracy_score(y_test, three_y_pred))"
      ],
      "execution_count": null,
      "outputs": [
        {
          "output_type": "stream",
          "text": [
            "Epoch 1/50\n",
            "39/39 [==============================] - 22s 369ms/step - loss: 0.6231\n",
            "Epoch 2/50\n",
            "39/39 [==============================] - 14s 365ms/step - loss: 0.4300\n",
            "Epoch 3/50\n",
            "39/39 [==============================] - 14s 364ms/step - loss: 0.3911\n",
            "Epoch 4/50\n",
            "39/39 [==============================] - 14s 363ms/step - loss: 0.4154\n",
            "Epoch 5/50\n",
            "39/39 [==============================] - 14s 363ms/step - loss: 0.4037\n",
            "Epoch 6/50\n",
            "39/39 [==============================] - 14s 366ms/step - loss: 0.3782\n",
            "Epoch 7/50\n",
            "39/39 [==============================] - 14s 364ms/step - loss: 0.4049\n",
            "Epoch 8/50\n",
            "39/39 [==============================] - 14s 362ms/step - loss: 0.4370\n",
            "Epoch 9/50\n",
            "39/39 [==============================] - 14s 363ms/step - loss: 0.4297\n",
            "Epoch 10/50\n",
            "39/39 [==============================] - 14s 362ms/step - loss: 0.4182\n",
            "Epoch 11/50\n",
            "39/39 [==============================] - 14s 363ms/step - loss: 0.4064\n",
            "Epoch 12/50\n",
            "39/39 [==============================] - 14s 363ms/step - loss: 0.4063\n",
            "Epoch 13/50\n",
            "39/39 [==============================] - 14s 363ms/step - loss: 0.4016\n",
            "Epoch 14/50\n",
            "39/39 [==============================] - 14s 362ms/step - loss: 0.4330\n",
            "Epoch 15/50\n",
            "39/39 [==============================] - 14s 362ms/step - loss: 0.3896\n",
            "Epoch 16/50\n",
            "39/39 [==============================] - 14s 362ms/step - loss: 0.4291\n",
            "Epoch 17/50\n",
            "39/39 [==============================] - 14s 361ms/step - loss: 0.3988\n",
            "Epoch 18/50\n",
            "39/39 [==============================] - 14s 362ms/step - loss: 0.4086\n",
            "Epoch 19/50\n",
            "39/39 [==============================] - 14s 364ms/step - loss: 0.4222\n",
            "Epoch 20/50\n",
            "39/39 [==============================] - 14s 362ms/step - loss: 0.4040\n",
            "Epoch 21/50\n",
            "39/39 [==============================] - 14s 362ms/step - loss: 0.4096\n",
            "Epoch 22/50\n",
            "39/39 [==============================] - 14s 361ms/step - loss: 0.4065\n",
            "Epoch 23/50\n",
            "39/39 [==============================] - 14s 361ms/step - loss: 0.4132\n",
            "Epoch 24/50\n",
            "39/39 [==============================] - 14s 362ms/step - loss: 0.4169\n",
            "Epoch 25/50\n",
            "39/39 [==============================] - 14s 362ms/step - loss: 0.4337\n",
            "Epoch 26/50\n",
            "39/39 [==============================] - 14s 362ms/step - loss: 0.4281\n",
            "Epoch 27/50\n",
            "39/39 [==============================] - 14s 360ms/step - loss: 0.3997\n",
            "Epoch 28/50\n",
            "39/39 [==============================] - 14s 364ms/step - loss: 0.4018\n",
            "Epoch 29/50\n",
            "39/39 [==============================] - 14s 350ms/step - loss: 0.3730\n",
            "Epoch 30/50\n",
            "39/39 [==============================] - 14s 351ms/step - loss: 0.3835\n",
            "Epoch 31/50\n",
            "39/39 [==============================] - 14s 362ms/step - loss: 0.3735\n",
            "Epoch 32/50\n",
            "39/39 [==============================] - 14s 367ms/step - loss: 0.4082\n",
            "Epoch 33/50\n",
            "39/39 [==============================] - 14s 364ms/step - loss: 0.4095\n",
            "Epoch 34/50\n",
            "39/39 [==============================] - 14s 365ms/step - loss: 0.4248\n",
            "Epoch 35/50\n",
            "39/39 [==============================] - 14s 363ms/step - loss: 0.4018\n",
            "Epoch 36/50\n",
            "39/39 [==============================] - 14s 359ms/step - loss: 0.3932\n",
            "Epoch 37/50\n",
            "39/39 [==============================] - 13s 344ms/step - loss: 0.3705\n",
            "Epoch 38/50\n",
            "39/39 [==============================] - 13s 345ms/step - loss: 0.4313\n",
            "Epoch 39/50\n",
            "39/39 [==============================] - 14s 350ms/step - loss: 0.3786\n",
            "Epoch 40/50\n",
            "39/39 [==============================] - 13s 346ms/step - loss: 0.4123\n",
            "Epoch 41/50\n",
            "39/39 [==============================] - 13s 342ms/step - loss: 0.3889\n",
            "Epoch 42/50\n",
            "39/39 [==============================] - 13s 342ms/step - loss: 0.4024\n",
            "Epoch 43/50\n",
            "39/39 [==============================] - 13s 340ms/step - loss: 0.4007\n",
            "Epoch 44/50\n",
            "39/39 [==============================] - 13s 341ms/step - loss: 0.4117\n",
            "Epoch 45/50\n",
            "39/39 [==============================] - 13s 343ms/step - loss: 0.4072\n",
            "Epoch 46/50\n",
            "39/39 [==============================] - 13s 344ms/step - loss: 0.3983\n",
            "Epoch 47/50\n",
            "39/39 [==============================] - 13s 342ms/step - loss: 0.4168\n",
            "Epoch 48/50\n",
            "39/39 [==============================] - 13s 343ms/step - loss: 0.3948\n",
            "Epoch 49/50\n",
            "39/39 [==============================] - 13s 340ms/step - loss: 0.3885\n",
            "Epoch 50/50\n",
            "39/39 [==============================] - 13s 342ms/step - loss: 0.3932\n",
            "Epoch 1/50\n",
            "39/39 [==============================] - 18s 343ms/step - loss: 0.6326\n",
            "Epoch 2/50\n",
            "39/39 [==============================] - 13s 343ms/step - loss: 0.4385\n",
            "Epoch 3/50\n",
            "39/39 [==============================] - 13s 342ms/step - loss: 0.4132\n",
            "Epoch 4/50\n",
            "39/39 [==============================] - 13s 344ms/step - loss: 0.4053\n",
            "Epoch 5/50\n",
            "39/39 [==============================] - 13s 341ms/step - loss: 0.4168\n",
            "Epoch 6/50\n",
            "39/39 [==============================] - 13s 342ms/step - loss: 0.3998\n",
            "Epoch 7/50\n",
            "39/39 [==============================] - 13s 340ms/step - loss: 0.4187\n",
            "Epoch 8/50\n",
            "39/39 [==============================] - 13s 343ms/step - loss: 0.4363\n",
            "Epoch 9/50\n",
            "39/39 [==============================] - 13s 342ms/step - loss: 0.4079\n",
            "Epoch 10/50\n",
            "39/39 [==============================] - 13s 342ms/step - loss: 0.3784\n",
            "Epoch 11/50\n",
            "39/39 [==============================] - 13s 340ms/step - loss: 0.4204\n",
            "Epoch 12/50\n",
            "39/39 [==============================] - 13s 342ms/step - loss: 0.4122\n",
            "Epoch 13/50\n",
            "39/39 [==============================] - 13s 341ms/step - loss: 0.4318\n",
            "Epoch 14/50\n",
            "39/39 [==============================] - 13s 342ms/step - loss: 0.3856\n",
            "Epoch 15/50\n",
            "39/39 [==============================] - 13s 342ms/step - loss: 0.4114\n",
            "Epoch 16/50\n",
            "39/39 [==============================] - 13s 345ms/step - loss: 0.3882\n",
            "Epoch 17/50\n",
            "39/39 [==============================] - 13s 343ms/step - loss: 0.4151\n",
            "Epoch 18/50\n",
            "39/39 [==============================] - 13s 342ms/step - loss: 0.4065\n",
            "Epoch 19/50\n",
            "39/39 [==============================] - 13s 345ms/step - loss: 0.4193\n",
            "Epoch 20/50\n",
            "39/39 [==============================] - 13s 344ms/step - loss: 0.3944\n",
            "Epoch 21/50\n",
            "39/39 [==============================] - 13s 343ms/step - loss: 0.4095\n",
            "Epoch 22/50\n",
            "39/39 [==============================] - 13s 343ms/step - loss: 0.4110\n",
            "Epoch 23/50\n",
            "39/39 [==============================] - 13s 343ms/step - loss: 0.4197\n",
            "Epoch 24/50\n",
            "39/39 [==============================] - 13s 344ms/step - loss: 0.4131\n",
            "Epoch 25/50\n",
            "39/39 [==============================] - 13s 343ms/step - loss: 0.4111\n",
            "Epoch 26/50\n",
            "39/39 [==============================] - 13s 344ms/step - loss: 0.3984\n",
            "Epoch 27/50\n",
            "39/39 [==============================] - 13s 342ms/step - loss: 0.4210\n",
            "Epoch 28/50\n",
            "39/39 [==============================] - 13s 343ms/step - loss: 0.3842\n",
            "Epoch 29/50\n",
            "39/39 [==============================] - 13s 343ms/step - loss: 0.4135\n",
            "Epoch 30/50\n",
            "39/39 [==============================] - 13s 342ms/step - loss: 0.4100\n",
            "Epoch 31/50\n",
            "39/39 [==============================] - 13s 343ms/step - loss: 0.3993\n",
            "Epoch 32/50\n",
            "39/39 [==============================] - 13s 343ms/step - loss: 0.4178\n",
            "Epoch 33/50\n",
            "39/39 [==============================] - 13s 342ms/step - loss: 0.4072\n",
            "Epoch 34/50\n",
            "39/39 [==============================] - 13s 342ms/step - loss: 0.4306\n",
            "Epoch 35/50\n",
            "39/39 [==============================] - 13s 341ms/step - loss: 0.4194\n",
            "Epoch 36/50\n",
            "39/39 [==============================] - 13s 342ms/step - loss: 0.4034\n",
            "Epoch 37/50\n",
            "39/39 [==============================] - 13s 340ms/step - loss: 0.4257\n",
            "Epoch 38/50\n",
            "39/39 [==============================] - 13s 342ms/step - loss: 0.4338\n",
            "Epoch 39/50\n",
            "39/39 [==============================] - 13s 341ms/step - loss: 0.4067\n",
            "Epoch 40/50\n",
            "39/39 [==============================] - 13s 342ms/step - loss: 0.4098\n",
            "Epoch 41/50\n",
            "39/39 [==============================] - 13s 342ms/step - loss: 0.4154\n",
            "Epoch 42/50\n",
            "39/39 [==============================] - 13s 343ms/step - loss: 0.4045\n",
            "Epoch 43/50\n",
            "39/39 [==============================] - 13s 342ms/step - loss: 0.4269\n",
            "Epoch 44/50\n",
            "39/39 [==============================] - 13s 344ms/step - loss: 0.3995\n",
            "Epoch 45/50\n",
            "39/39 [==============================] - 13s 344ms/step - loss: 0.4024\n",
            "Epoch 46/50\n",
            "39/39 [==============================] - 13s 345ms/step - loss: 0.4052\n",
            "Epoch 47/50\n",
            "39/39 [==============================] - 13s 345ms/step - loss: 0.3837\n",
            "Epoch 48/50\n",
            "39/39 [==============================] - 13s 344ms/step - loss: 0.3486\n",
            "Epoch 49/50\n",
            "39/39 [==============================] - 13s 345ms/step - loss: 0.3933\n",
            "Epoch 50/50\n",
            "39/39 [==============================] - 14s 349ms/step - loss: 0.3732\n",
            "Epoch 1/50\n",
            "39/39 [==============================] - 19s 344ms/step - loss: 0.6607\n",
            "Epoch 2/50\n",
            "39/39 [==============================] - 14s 353ms/step - loss: 0.4227\n",
            "Epoch 3/50\n",
            "39/39 [==============================] - 14s 362ms/step - loss: 0.4198\n",
            "Epoch 4/50\n",
            "39/39 [==============================] - 14s 362ms/step - loss: 0.3775\n",
            "Epoch 5/50\n",
            "39/39 [==============================] - 14s 363ms/step - loss: 0.4135\n",
            "Epoch 6/50\n",
            "39/39 [==============================] - 14s 360ms/step - loss: 0.4105\n",
            "Epoch 7/50\n",
            "39/39 [==============================] - 14s 362ms/step - loss: 0.3824\n",
            "Epoch 8/50\n",
            "39/39 [==============================] - 14s 361ms/step - loss: 0.4146\n",
            "Epoch 9/50\n",
            "39/39 [==============================] - 14s 362ms/step - loss: 0.4177\n",
            "Epoch 10/50\n",
            "39/39 [==============================] - 14s 361ms/step - loss: 0.4170\n",
            "Epoch 11/50\n",
            "39/39 [==============================] - 14s 363ms/step - loss: 0.4045\n",
            "Epoch 12/50\n",
            "39/39 [==============================] - 14s 363ms/step - loss: 0.4089\n",
            "Epoch 13/50\n",
            "39/39 [==============================] - 14s 364ms/step - loss: 0.4031\n",
            "Epoch 14/50\n",
            "39/39 [==============================] - 14s 365ms/step - loss: 0.4165\n",
            "Epoch 15/50\n",
            "39/39 [==============================] - 14s 365ms/step - loss: 0.4153\n",
            "Epoch 16/50\n",
            "39/39 [==============================] - 14s 369ms/step - loss: 0.4004\n",
            "Epoch 17/50\n",
            "39/39 [==============================] - 15s 372ms/step - loss: 0.4082\n",
            "Epoch 18/50\n",
            "39/39 [==============================] - 15s 372ms/step - loss: 0.4243\n",
            "Epoch 19/50\n",
            "39/39 [==============================] - 14s 367ms/step - loss: 0.3967\n",
            "Epoch 20/50\n",
            "39/39 [==============================] - 14s 360ms/step - loss: 0.4499\n",
            "Epoch 21/50\n",
            "39/39 [==============================] - 14s 364ms/step - loss: 0.4165\n",
            "Epoch 22/50\n",
            "39/39 [==============================] - 14s 364ms/step - loss: 0.3925\n",
            "Epoch 23/50\n",
            "39/39 [==============================] - 14s 364ms/step - loss: 0.3995\n",
            "Epoch 24/50\n",
            "39/39 [==============================] - 14s 364ms/step - loss: 0.3960\n",
            "Epoch 25/50\n",
            "39/39 [==============================] - 14s 363ms/step - loss: 0.4047\n",
            "Epoch 26/50\n",
            "39/39 [==============================] - 14s 365ms/step - loss: 0.4087\n",
            "Epoch 27/50\n",
            "39/39 [==============================] - 14s 348ms/step - loss: 0.4123\n",
            "Epoch 28/50\n",
            "39/39 [==============================] - 14s 348ms/step - loss: 0.4217\n",
            "Epoch 29/50\n",
            "39/39 [==============================] - 13s 346ms/step - loss: 0.3977\n",
            "Epoch 30/50\n",
            "39/39 [==============================] - 14s 347ms/step - loss: 0.3791\n",
            "Epoch 31/50\n",
            "39/39 [==============================] - 14s 347ms/step - loss: 0.3845\n",
            "Epoch 32/50\n",
            "39/39 [==============================] - 13s 346ms/step - loss: 0.4409\n",
            "Epoch 33/50\n",
            "39/39 [==============================] - 13s 346ms/step - loss: 0.4060\n",
            "Epoch 34/50\n",
            "39/39 [==============================] - 14s 346ms/step - loss: 0.4067\n",
            "Epoch 35/50\n",
            "39/39 [==============================] - 13s 344ms/step - loss: 0.4312\n",
            "Epoch 36/50\n",
            "39/39 [==============================] - 13s 343ms/step - loss: 0.3938\n",
            "Epoch 37/50\n",
            "39/39 [==============================] - 13s 346ms/step - loss: 0.4085\n",
            "Epoch 38/50\n",
            "39/39 [==============================] - 13s 346ms/step - loss: 0.4017\n",
            "Epoch 39/50\n",
            "39/39 [==============================] - 13s 345ms/step - loss: 0.4124\n",
            "Epoch 40/50\n",
            "39/39 [==============================] - 14s 346ms/step - loss: 0.4095\n",
            "Epoch 41/50\n",
            "39/39 [==============================] - 13s 346ms/step - loss: 0.4077\n",
            "Epoch 42/50\n",
            "39/39 [==============================] - 13s 346ms/step - loss: 0.3831\n",
            "Epoch 43/50\n",
            "39/39 [==============================] - 14s 348ms/step - loss: 0.4092\n",
            "Epoch 44/50\n",
            "39/39 [==============================] - 14s 358ms/step - loss: 0.3675\n",
            "Epoch 45/50\n",
            "39/39 [==============================] - 14s 362ms/step - loss: 0.4146\n",
            "Epoch 46/50\n",
            "39/39 [==============================] - 14s 363ms/step - loss: 0.3830\n",
            "Epoch 47/50\n",
            "39/39 [==============================] - 14s 361ms/step - loss: 0.4048\n",
            "Epoch 48/50\n",
            "39/39 [==============================] - 14s 361ms/step - loss: 0.3844\n",
            "Epoch 49/50\n",
            "39/39 [==============================] - 14s 363ms/step - loss: 0.4310\n",
            "Epoch 50/50\n",
            "39/39 [==============================] - 14s 357ms/step - loss: 0.3699\n"
          ],
          "name": "stdout"
        }
      ]
    },
    {
      "source": [
        "## Plot Training and Test Instances"
      ],
      "cell_type": "markdown",
      "metadata": {}
    },
    {
      "source": [
        "plot_embedding(emb.encode(X_train), y_train, \"Embedded Training Instances\", f\"drive/MyDrive/ColabData/Univariate_ts/{dataset_name}/embedded_training_set\")\n",
        "plot_embedding(emb.encode(X_test), y_test, \"Embedded Test Instances\", f\"drive/MyDrive/ColabData/Univariate_ts/{dataset_name}/embedded_test_set\")"
      ],
      "cell_type": "code",
      "metadata": {
        "id": "gDELotoKH3ZW",
        "colab": {
          "base_uri": "https://localhost:8080/",
          "height": 1000
        },
        "outputId": "da1b5d5b-6fc9-4b9f-9978-e0756d1f1f09"
      },
      "execution_count": null,
      "outputs": []
    },
    {
      "source": [
        "## Metrics"
      ],
      "cell_type": "markdown",
      "metadata": {}
    },
    {
      "cell_type": "code",
      "metadata": {
        "id": "87IR8_k9x3mZ",
        "colab": {
          "base_uri": "https://localhost:8080/"
        },
        "outputId": "257a5406-0acf-4736-e8b8-b23d8ecc9c6b"
      },
      "source": [
        "print(f\"Train Silhoutte: {np.mean(train_sils):.4f} +/- {np.std(train_sils):.4f}\")\n",
        "print(f\"Test Silhoutte: {np.mean(test_sils):.4f} +/- {np.std(test_sils):.4f}\")"
      ],
      "execution_count": null,
      "outputs": [
        {
          "output_type": "stream",
          "text": [
            "Train Silhoutte: 0.2564 +/- 0.0049\n",
            "Test Silhoutte: 0.1610 +/- 0.0052\n"
          ],
          "name": "stdout"
        }
      ]
    },
    {
      "cell_type": "code",
      "metadata": {
        "id": "GjqraD9Nyfyb",
        "colab": {
          "base_uri": "https://localhost:8080/"
        },
        "outputId": "26d39882-db5d-4643-b02a-cee859ee30e9"
      },
      "source": [
        "print(f\"1-NN Accuracy: {np.mean(one_accuracies):.4f} +/- {np.std(one_accuracies):.4f}\")\n",
        "print(f\"3-NN Accuracy: {np.mean(three_accuracies):.4f} +/- {np.std(three_accuracies):.4f}\")"
      ],
      "execution_count": null,
      "outputs": [
        {
          "output_type": "stream",
          "text": [
            "1-NN Accuracy: 0.5865 +/- 0.0254\n",
            "3-NN Accuracy: 0.6297 +/- 0.0058\n"
          ],
          "name": "stdout"
        }
      ]
    }
  ]
}